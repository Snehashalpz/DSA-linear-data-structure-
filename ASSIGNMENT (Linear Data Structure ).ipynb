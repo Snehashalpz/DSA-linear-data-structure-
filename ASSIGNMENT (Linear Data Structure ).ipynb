{
 "cells": [
  {
   "cell_type": "markdown",
   "id": "a9144fc7",
   "metadata": {},
   "source": [
    "# DSA(LINEAR DATA STRUCTURE ASSIGNMENT)"
   ]
  },
  {
   "cell_type": "markdown",
   "id": "fd69fbc9",
   "metadata": {},
   "source": [
    "# Q1. Write a program to find all pairs of an integer array whose sum is equal to a given number?"
   ]
  },
  {
   "cell_type": "code",
   "execution_count": 20,
   "id": "83ad585b",
   "metadata": {},
   "outputs": [
    {
     "name": "stdout",
     "output_type": "stream",
     "text": [
      "Enter the size of the list: 6\n",
      "Enter the number: 6\n",
      "Enter the number: 9\n",
      "Enter the number: 5\n",
      "Enter the number: 3\n",
      "Enter the number: 2\n",
      "Enter the number: 8\n",
      "Array = [6, 9, 5, 3, 2, 8]\n",
      "Enter the sum: 7\n",
      "Pairs whose sum is: 7\n",
      "5 2\n"
     ]
    }
   ],
   "source": [
    "def find(array, length, sum):\n",
    "    print(\"Pairs whose sum is:\", sum)\n",
    "    for i in range(length):\n",
    "        for j in range(i, length):\n",
    "            if (array[i] + array[j]) == sum:\n",
    "                print(array[i], array[j])\n",
    "\n",
    "array_size = int(input(\"Enter the size of the list: \"))\n",
    "Array = []\n",
    "for i in range(array_size):\n",
    "    num = int(input(\"Enter the number: \"))\n",
    "    if num in Array:\n",
    "        while num in Array:\n",
    "            print(\"This number already exists.\")\n",
    "            num = int(input(\"Enter another number: \"))\n",
    "    Array.append(num)\n",
    "\n",
    "print(\"Array =\", Array)\n",
    "\n",
    "sum = int(input(\"Enter the sum: \"))\n",
    "\n",
    "# Call the function find\n",
    "find(Array, len(Array), sum)\n"
   ]
  },
  {
   "cell_type": "markdown",
   "id": "7bf9d1b0",
   "metadata": {},
   "source": [
    "# Q2. Write a program to reverse an array in place? In place means you cannot create a new array. You have to update the original array."
   ]
  },
  {
   "cell_type": "code",
   "execution_count": 1,
   "id": "36726efa",
   "metadata": {},
   "outputs": [
    {
     "name": "stdout",
     "output_type": "stream",
     "text": [
      "Enter elements of the array (space-separated): 56 7 4 9 53\n",
      "Original array: [56, 7, 4, 9, 53]\n",
      "Reversed array: [53, 9, 4, 7, 56]\n"
     ]
    }
   ],
   "source": [
    "def reverse_array(arr):\n",
    "    start = 0\n",
    "    end = len(arr) - 1\n",
    "    \n",
    "    while start < end:\n",
    "        \n",
    "        arr[start], arr[end] = arr[end], arr[start]\n",
    "        \n",
    "        \n",
    "        start += 1\n",
    "        end -= 1\n",
    "\n",
    "\n",
    "array = input(\"Enter elements of the array (space-separated): \").split()\n",
    "array = [int(num) for num in array]\n",
    "\n",
    "print(\"Original array:\", array)\n",
    "reverse_array(array)\n",
    "print(\"Reversed array:\", array)\n"
   ]
  },
  {
   "cell_type": "markdown",
   "id": "bbcfa52b",
   "metadata": {},
   "source": [
    "# Q3. Write a program to check if two strings are a rotation of each other? "
   ]
  },
  {
   "cell_type": "code",
   "execution_count": 2,
   "id": "0a511d1b",
   "metadata": {},
   "outputs": [
    {
     "name": "stdout",
     "output_type": "stream",
     "text": [
      "Enter string1: snehaa\n",
      "Enter string2: haasne\n",
      "Given Strings are rotations of each other.\n"
     ]
    }
   ],
   "source": [
    "def checkRotation(s1, s2): \n",
    "    temp = '' \n",
    "  \n",
    "    \n",
    "    if len(s1) != len(s2): \n",
    "        return False\n",
    "  \n",
    "    \n",
    "    temp = s1 + s1 \n",
    "  \n",
    "    \n",
    "    if s2 in temp: \n",
    "        return True \n",
    "    else: \n",
    "        return False\n",
    "string1 = str(input(\"Enter string1: \"))\n",
    "string2 = str(input(\"Enter string2: \"))\n",
    "  \n",
    "if checkRotation(string1, string2): \n",
    "    print(\"Given Strings are rotations of each other.\")\n",
    "else: \n",
    "    print(\"Given Strings are not rotations of each other.\")\n"
   ]
  },
  {
   "cell_type": "markdown",
   "id": "442eb029",
   "metadata": {},
   "source": [
    "# Q4. Write a program to print the first non-repeated character from a string?\n"
   ]
  },
  {
   "cell_type": "code",
   "execution_count": 7,
   "id": "c863d0e9",
   "metadata": {},
   "outputs": [
    {
     "name": "stdout",
     "output_type": "stream",
     "text": [
      "Enter a string: aravind\n",
      "First non-repeated character: r\n"
     ]
    }
   ],
   "source": [
    "def find_first_non_repeated_char(string):\n",
    "    char_count = {}\n",
    "    for char in string:\n",
    "        if char in char_count:\n",
    "            char_count[char] += 1\n",
    "        else:\n",
    "            char_count[char] = 1\n",
    "    for char in string:\n",
    "        if char_count[char] == 1:\n",
    "            return char\n",
    "    return None\n",
    "\n",
    "string = input(\"Enter a string: \")\n",
    "non_repeated_char = find_first_non_repeated_char(string)\n",
    "if non_repeated_char:\n",
    "    print(\"First non-repeated character:\", non_repeated_char)\n",
    "else:\n",
    "    print(\"No non-repeated character found.\")\n"
   ]
  },
  {
   "cell_type": "markdown",
   "id": "8607afd5",
   "metadata": {},
   "source": [
    "# Q5. Read about the Tower of Hanoi algorithm. Write a program to implement it."
   ]
  },
  {
   "cell_type": "code",
   "execution_count": 3,
   "id": "2bdaeb02",
   "metadata": {},
   "outputs": [
    {
     "name": "stdout",
     "output_type": "stream",
     "text": [
      "Enter number of discs: 4\n",
      "Move disc 1 from pole A to pole B\n",
      "Move disc 2 from pole A to pole C\n",
      "Move disc 1 from pole B to pole C\n",
      "Move disc 3 from pole A to pole B\n",
      "Move disc 1 from pole C to pole A\n",
      "Move disc 2 from pole C to pole B\n",
      "Move disc 1 from pole A to pole B\n",
      "Move disc 4 from pole A to pole C\n",
      "Move disc 1 from pole B to pole C\n",
      "Move disc 2 from pole B to pole A\n",
      "Move disc 1 from pole C to pole A\n",
      "Move disc 3 from pole B to pole C\n",
      "Move disc 1 from pole A to pole B\n",
      "Move disc 2 from pole A to pole C\n",
      "Move disc 1 from pole B to pole C\n"
     ]
    }
   ],
   "source": [
    "def TowerOfHanoi(n , s_pole, d_pole, i_pole):           \n",
    "    if n == 1:\n",
    "        print(\"Move disc 1 from pole\",s_pole,\"to pole\",d_pole)\n",
    "        return\n",
    "    TowerOfHanoi(n-1, s_pole, i_pole, d_pole)\n",
    "    print(\"Move disc\",n,\"from pole\",s_pole,\"to pole\",d_pole)\n",
    "    TowerOfHanoi(n-1, i_pole, d_pole, s_pole)\n",
    "n=int(input(\"Enter number of discs: \"))\n",
    "TowerOfHanoi(n, 'A', 'C', 'B')\n",
    "# A, C, B are the name of towers"
   ]
  },
  {
   "cell_type": "markdown",
   "id": "126ea0cd",
   "metadata": {},
   "source": [
    "# Q6. Read about infix, prefix, and postfix expressions. Write a program to convert postfix to prefix expression."
   ]
  },
  {
   "cell_type": "code",
   "execution_count": 4,
   "id": "5a14f6af",
   "metadata": {},
   "outputs": [
    {
     "name": "stdout",
     "output_type": "stream",
     "text": [
      "Enter the expression: AB+CD-*\n",
      "Prefix :  *+AB-CD\n"
     ]
    }
   ],
   "source": [
    "def isOperator(x):\n",
    " \n",
    "    if x == \"+\":\n",
    "        return True\n",
    " \n",
    "    if x == \"-\":\n",
    "        return True\n",
    " \n",
    "    if x == \"/\":\n",
    "        return True\n",
    " \n",
    "    if x == \"*\":\n",
    "        return True\n",
    " \n",
    "    return False\n",
    "\n",
    " \n",
    "def postToPre(post_exp):\n",
    " \n",
    "    s = []\n",
    " \n",
    "    length = len(post_exp)\n",
    "    \n",
    "    for i in range(length):\n",
    " \n",
    "        if (isOperator(post_exp[i])):\n",
    " \n",
    "           \n",
    "            op1 = s[-1]\n",
    "            s.pop()\n",
    "            op2 = s[-1]\n",
    "            s.pop()\n",
    " \n",
    "            \n",
    "            temp = post_exp[i] + op2 + op1\n",
    " \n",
    "            \n",
    "            s.append(temp)\n",
    " \n",
    "       \n",
    "        else:\n",
    " \n",
    "            \n",
    "            s.append(post_exp[i])\n",
    " \n",
    "    \n",
    "    ans = \"\"\n",
    "    for i in s:\n",
    "        ans += i\n",
    "    return ans\n",
    " \n",
    "if __name__ == \"__main__\":\n",
    " \n",
    "    post_exp = input(\"Enter the expression: \")\n",
    "     \n",
    "    \n",
    "    print(\"Prefix : \", postToPre(post_exp))"
   ]
  },
  {
   "cell_type": "markdown",
   "id": "a5baf776",
   "metadata": {},
   "source": [
    "# Q7. Write a program to convert prefix expression to infix expression."
   ]
  },
  {
   "cell_type": "code",
   "execution_count": 6,
   "id": "0cb7bcac",
   "metadata": {},
   "outputs": [
    {
     "name": "stdout",
     "output_type": "stream",
     "text": [
      "Enter the Expression: *+AB-CD\n",
      "((A+B)*(C-D))\n"
     ]
    }
   ],
   "source": [
    "def prefixToInfix(prefix):\n",
    "    stack = []\n",
    "     \n",
    "    \n",
    "    i = len(prefix) - 1\n",
    "    while i >= 0:\n",
    "        if not isOperator(prefix[i]):\n",
    "             \n",
    "            \n",
    "            stack.append(prefix[i])\n",
    "            i -= 1\n",
    "        else:\n",
    "           \n",
    "           \n",
    "            str = \"(\" + stack.pop() + prefix[i] + stack.pop() + \")\"\n",
    "            stack.append(str)\n",
    "            i -= 1\n",
    "     \n",
    "    return stack.pop()\n",
    "def isOperator(c):\n",
    "    if c == \"*\" or c == \"+\" or c == \"-\" or c == \"/\" or c == \"^\" or c == \"(\" or c == \")\":\n",
    "         return True\n",
    "    else:\n",
    "         return False\n",
    "    \n",
    "if __name__==\"__main__\":\n",
    "    str = input(\"Enter the Expression: \")\n",
    "    print(prefixToInfix(str))"
   ]
  },
  {
   "cell_type": "markdown",
   "id": "c2954ded",
   "metadata": {},
   "source": [
    "# Q8. Write a program to check if all the brackets are closed in a given code snippet."
   ]
  },
  {
   "cell_type": "code",
   "execution_count": 14,
   "id": "6b1470c6",
   "metadata": {},
   "outputs": [
    {
     "name": "stdout",
     "output_type": "stream",
     "text": [
      "Enter the code snippet: [()]{}{[()()]()}\n",
      "All brackets are closed properly.\n"
     ]
    }
   ],
   "source": [
    "def check_brackets(code_snippet):\n",
    "    stack = []\n",
    "    opening_brackets = ['(', '[', '{']\n",
    "    closing_brackets = [')', ']', '}']\n",
    "    for char in code_snippet:\n",
    "        if char in opening_brackets:\n",
    "            stack.append(char)\n",
    "        elif char in closing_brackets:\n",
    "            if not stack or opening_brackets.index(stack.pop()) != closing_brackets.index(char):\n",
    "                return False\n",
    "    return len(stack) == 0\n",
    "\n",
    "if __name__ == \"__main__\":\n",
    "    code_snippet = input(\"Enter the code snippet: \")\n",
    " \n",
    "    if check_brackets(code_snippet):\n",
    "        print(\"All brackets are closed properly.\")\n",
    "    else:\n",
    "        print(\"Brackets are not closed properly.\")\n"
   ]
  },
  {
   "cell_type": "markdown",
   "id": "c0f469b1",
   "metadata": {},
   "source": [
    "# Q9. Write a program to reverse a stack."
   ]
  },
  {
   "cell_type": "code",
   "execution_count": 19,
   "id": "1f8cc395",
   "metadata": {},
   "outputs": [
    {
     "name": "stdout",
     "output_type": "stream",
     "text": [
      "Please enter the elements to push: 5 6 78 90 6 7 0\n",
      "Before reversing The stack:\n",
      "0\n",
      "7\n",
      "6\n",
      "90\n",
      "78\n",
      "6\n",
      "5\n",
      "After reversing The stack:\n",
      "5\n",
      "6\n",
      "78\n",
      "90\n",
      "6\n",
      "7\n",
      "0\n"
     ]
    }
   ],
   "source": [
    "class Stack:\n",
    "    def __init__(self):\n",
    "        self.items = []\n",
    " \n",
    "    def is_empty(self):\n",
    "        return self.items == []\n",
    " \n",
    "    def push(self, data):\n",
    "        self.items.append(data)\n",
    " \n",
    "    def pop(self):\n",
    "        return self.items.pop()\n",
    " \n",
    "    def display(self):\n",
    "        for data in reversed(self.items):\n",
    "            print(data)\n",
    "            \n",
    "    def insert_at_bottom(s, data):\n",
    "        if s.is_empty():\n",
    "            s.push(data)\n",
    "        else:\n",
    "            popped = s.pop()\n",
    "            insert_at_bottom(s, data)\n",
    "            s.push(popped)\n",
    "\n",
    "\n",
    "    def reverse_stack(s):\n",
    "        if not s.is_empty():\n",
    "            popped = s.pop()\n",
    "            reverse_stack(s)\n",
    "            insert_at_bottom(s, popped)\n",
    "\n",
    "s = Stack()\n",
    "data_list = input('Please enter the elements to push: ').split()\n",
    "for data in data_list:\n",
    "    s.push(int(data))\n",
    "    \n",
    "print('Before reversing The stack:')\n",
    "s.display()\n",
    "reverse_stack(s)\n",
    "print('After reversing The stack:')\n",
    "s.display()"
   ]
  },
  {
   "cell_type": "markdown",
   "id": "f845e2ef",
   "metadata": {},
   "source": [
    "# Q10. Write a program to find the smallest number using a stack."
   ]
  },
  {
   "cell_type": "code",
   "execution_count": 2,
   "id": "93467094",
   "metadata": {},
   "outputs": [
    {
     "name": "stdout",
     "output_type": "stream",
     "text": [
      "Please enter the elements to push: 5 6 7 9 2\n",
      "The stack:\n",
      "2\n",
      "9\n",
      "7\n",
      "6\n",
      "5\n",
      "Smallest element in the given stack: 2\n"
     ]
    }
   ],
   "source": [
    "from collections import deque\n",
    "class Stack:\n",
    "    def __init__(self):\n",
    "        self.s = deque()\n",
    "        self.items = []\n",
    "        self.min = None\n",
    " \n",
    "    def is_empty(self):\n",
    "        return self.items == []\n",
    " \n",
    "    def push(self, data):\n",
    "        if not self.s:\n",
    "            self.s.append(data)\n",
    "            self.min = data\n",
    "        elif data > self.min:\n",
    "            self.s.append(data)\n",
    "        else:\n",
    "            self.s.append(2*data - self.min)\n",
    "            self.min = data\n",
    "        self.items.append(data)\n",
    " \n",
    "    def pop(self):\n",
    "        return self.items.pop()\n",
    " \n",
    "    def display(self):\n",
    "        for data in reversed(self.items):\n",
    "            print(data)\n",
    "            \n",
    "    def getMin(self):\n",
    "        return self.min\n",
    "            \n",
    "    def insert_at_bottom(s, data):\n",
    "        if s.is_empty():\n",
    "            s.push(data)\n",
    "        else:\n",
    "            popped = s.pop()\n",
    "            insert_at_bottom(s, data)\n",
    "            s.push(popped)\n",
    "        \n",
    "s = Stack()\n",
    "data_list = input('Please enter the elements to push: ').split()\n",
    "for data in data_list:\n",
    "    s.push(int(data)) \n",
    "print('The stack:')\n",
    "s.display()\n",
    "print(\"Smallest element in the given stack:\",s.getMin())"
   ]
  }
 ],
 "metadata": {
  "kernelspec": {
   "display_name": "Python 3 (ipykernel)",
   "language": "python",
   "name": "python3"
  },
  "language_info": {
   "codemirror_mode": {
    "name": "ipython",
    "version": 3
   },
   "file_extension": ".py",
   "mimetype": "text/x-python",
   "name": "python",
   "nbconvert_exporter": "python",
   "pygments_lexer": "ipython3",
   "version": "3.10.9"
  }
 },
 "nbformat": 4,
 "nbformat_minor": 5
}
